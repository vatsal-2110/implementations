{
  "nbformat": 4,
  "nbformat_minor": 0,
  "metadata": {
    "colab": {
      "provenance": []
    },
    "kernelspec": {
      "name": "python3",
      "display_name": "Python 3"
    },
    "language_info": {
      "name": "python"
    }
  },
  "cells": [
    {
      "cell_type": "code",
      "execution_count": 1,
      "metadata": {
        "id": "dL8sdfCFqWuf"
      },
      "outputs": [],
      "source": [
        "import torch\n",
        "import torch.nn.functional as F"
      ]
    },
    {
      "cell_type": "code",
      "source": [
        "# download the names.txt file from github\n",
        "!wget https://raw.githubusercontent.com/karpathy/makemore/master/names.txt"
      ],
      "metadata": {
        "colab": {
          "base_uri": "https://localhost:8080/"
        },
        "id": "Az1Bx-vhqepy",
        "outputId": "e45ef16e-0802-41ed-cd0a-c6e193b7b2ab"
      },
      "execution_count": 2,
      "outputs": [
        {
          "output_type": "stream",
          "name": "stdout",
          "text": [
            "--2025-08-12 15:57:37--  https://raw.githubusercontent.com/karpathy/makemore/master/names.txt\n",
            "Resolving raw.githubusercontent.com (raw.githubusercontent.com)... 185.199.109.133, 185.199.108.133, 185.199.110.133, ...\n",
            "Connecting to raw.githubusercontent.com (raw.githubusercontent.com)|185.199.109.133|:443... connected.\n",
            "HTTP request sent, awaiting response... 200 OK\n",
            "Length: 228145 (223K) [text/plain]\n",
            "Saving to: ‘names.txt’\n",
            "\n",
            "names.txt           100%[===================>] 222.80K  --.-KB/s    in 0.04s   \n",
            "\n",
            "2025-08-12 15:57:38 (5.96 MB/s) - ‘names.txt’ saved [228145/228145]\n",
            "\n"
          ]
        }
      ]
    },
    {
      "cell_type": "code",
      "source": [
        "# read in all the words\n",
        "words = open('names.txt', 'r').read().splitlines()\n",
        "\n",
        "chars = sorted(list(set(''.join(words))))\n",
        "stoi = {s:i+1 for i,s in enumerate(chars)}\n",
        "stoi['.'] = 0\n",
        "itos = {i:s for s,i in stoi.items()}\n",
        "vocab_size = len(itos)\n",
        "print(itos)\n",
        "print(vocab_size)"
      ],
      "metadata": {
        "colab": {
          "base_uri": "https://localhost:8080/"
        },
        "id": "LWsVr1WEqrI6",
        "outputId": "cf51afa0-8e54-44ea-a3f3-de3ed059371b"
      },
      "execution_count": 3,
      "outputs": [
        {
          "output_type": "stream",
          "name": "stdout",
          "text": [
            "{1: 'a', 2: 'b', 3: 'c', 4: 'd', 5: 'e', 6: 'f', 7: 'g', 8: 'h', 9: 'i', 10: 'j', 11: 'k', 12: 'l', 13: 'm', 14: 'n', 15: 'o', 16: 'p', 17: 'q', 18: 'r', 19: 's', 20: 't', 21: 'u', 22: 'v', 23: 'w', 24: 'x', 25: 'y', 26: 'z', 0: '.'}\n",
            "27\n"
          ]
        }
      ]
    },
    {
      "cell_type": "code",
      "source": [
        "block_size = 8 # context length: how many characters do we take to predict the next one?\n",
        "\n",
        "def build_dataset(words):\n",
        "  X, Y = [], []\n",
        "\n",
        "  for w in words:\n",
        "    context = [0] * block_size\n",
        "    for ch in w + '.':\n",
        "      ix = stoi[ch]\n",
        "      X.append(context)\n",
        "      Y.append(ix)\n",
        "      context = context[1:] + [ix] # crop and append\n",
        "\n",
        "  X = torch.tensor(X)\n",
        "  Y = torch.tensor(Y)\n",
        "  print(X.shape, Y.shape)\n",
        "  return X, Y\n",
        "\n",
        "import random\n",
        "random.seed(42)\n",
        "random.shuffle(words)\n",
        "n1 = int(0.8*len(words))\n",
        "n2 = int(0.9*len(words))\n",
        "\n",
        "Xtr,  Ytr  = build_dataset(words[:n1])     # 80%\n",
        "Xdev, Ydev = build_dataset(words[n1:n2])   # 10%\n",
        "Xte,  Yte  = build_dataset(words[n2:])     # 10%"
      ],
      "metadata": {
        "colab": {
          "base_uri": "https://localhost:8080/"
        },
        "id": "XYB81rkVqyc6",
        "outputId": "a02f9a59-e71b-43cd-d3b0-8777595367c4"
      },
      "execution_count": 4,
      "outputs": [
        {
          "output_type": "stream",
          "name": "stdout",
          "text": [
            "torch.Size([182625, 8]) torch.Size([182625])\n",
            "torch.Size([22655, 8]) torch.Size([22655])\n",
            "torch.Size([22866, 8]) torch.Size([22866])\n"
          ]
        }
      ]
    },
    {
      "cell_type": "code",
      "source": [
        "class Linear:\n",
        "  def __init__(self, fan_in,fan_out,bias=True):\n",
        "\n",
        "    self.w = torch.randn((fan_in,fan_out))\n",
        "    self.b = torch.zeros(fan_out) if bias else None\n",
        "\n",
        "  def __call__(self,x):\n",
        "    self.out = x @ self.w\n",
        "    if self.b is not None:\n",
        "      self.out+= self.b\n",
        "      return self.out\n",
        "    else :\n",
        "      return self.out\n",
        "\n",
        "  def parameters(self):\n",
        "    return [self.w] + ([] if self.b is None else [self.b])\n",
        "\n",
        "class Batchnorm1d:\n",
        "  def __init__(self,dim, momentum = 0.01, eps = 1e-5):\n",
        "    self.momentum = momentum\n",
        "    self.eps = eps\n",
        "    self.training = True\n",
        "    self.beta = torch.zeros(dim)\n",
        "    self.gamma = torch.ones(dim)\n",
        "    self.running_mean = torch.zeros(dim)\n",
        "    self.running_var = torch.ones(dim)\n",
        "\n",
        "  def __call__(self,x):\n",
        "    if self.training:\n",
        "      if x.ndim == 2:\n",
        "        dim = 0\n",
        "      elif x.ndim == 3:\n",
        "        dim = (0,1)\n",
        "      xmean = x.mean(dim,keepdim = True)\n",
        "      xvar = x.var(dim,keepdim = True)\n",
        "    else:\n",
        "      xmean = self.running_mean\n",
        "      xvar = self.running_var\n",
        "\n",
        "    xhat = (x-xmean)/torch.sqrt(xvar+self.eps)\n",
        "    self.out = self.gamma * xhat + self.beta\n",
        "\n",
        "    if self.training:\n",
        "      with torch.no_grad():\n",
        "        self.running_mean = (1-self.momentum) * self.running_mean + self.momentum * xmean\n",
        "        self.running_var = (1-self.momentum) * self.running_var + self.momentum * xvar\n",
        "    return self.out\n",
        "\n",
        "  def parameters(self):\n",
        "    return [self.gamma,self.beta]\n",
        "\n",
        "class tanh:\n",
        "  def __call__(self,x):\n",
        "    self.out = torch.tanh(x)\n",
        "    return self.out\n",
        "\n",
        "  def parameters(self):\n",
        "    return []\n",
        "\n",
        "class Embedding:\n",
        "  def __init__(self,number_embed, embed_dim):\n",
        "    self.embed = torch.randn((number_embed, embed_dim))\n",
        "\n",
        "  def __call__(self,x):\n",
        "    self.out = self.embed[x]\n",
        "    return self.out\n",
        "\n",
        "  def parameters(self):\n",
        "    return [self.embed]\n",
        "\n",
        "class Sequential:\n",
        "  def __init__(self,layers):\n",
        "    self.layers = layers\n",
        "\n",
        "  def __call__(self,x):\n",
        "    for layer in self.layers:\n",
        "      x = layer(x)\n",
        "    self.out = x\n",
        "    return self.out\n",
        "\n",
        "  def parameters(self):\n",
        "    return [p for layer in self.layers for p in layer.parameters()]\n",
        "\n",
        "class FlattenConsecutive:\n",
        "  def __init__(self,n):\n",
        "    self.n = n\n",
        "\n",
        "  def __call__(self,x):\n",
        "    B,T,C = x.shape\n",
        "    x = x.view(-1,T//self.n,C*self.n)\n",
        "    if x.shape[1] == 1:\n",
        "      x = x.squeeze(1)\n",
        "    self.out = x\n",
        "    return self.out\n",
        "\n",
        "  def parameters(self):\n",
        "    return []"
      ],
      "metadata": {
        "id": "_tU2r1ZArXXW"
      },
      "execution_count": 5,
      "outputs": []
    },
    {
      "cell_type": "code",
      "source": [
        "n_embed = 24\n",
        "n_hidden = 128\n",
        "model = Sequential([\n",
        "    Embedding(vocab_size,n_embed),\n",
        "    FlattenConsecutive(2), Linear(2*n_embed, n_hidden, bias = False), Batchnorm1d(n_hidden ), tanh(),\n",
        "    FlattenConsecutive(2), Linear(2*n_hidden, n_hidden, bias = False), Batchnorm1d(n_hidden), tanh(),\n",
        "    FlattenConsecutive(2), Linear(2*n_hidden, n_hidden, bias = False), Batchnorm1d(n_hidden), tanh(),\n",
        "    Linear(n_hidden, vocab_size)\n",
        "])\n",
        "\n",
        "with torch.no_grad():\n",
        "  model.layers[-1].w*=0.1\n",
        "\n",
        "print(sum([p.nelement() for p in model.parameters()]))\n",
        "\n",
        "for p in model.parameters():\n",
        "  p.requires_grad = True"
      ],
      "metadata": {
        "colab": {
          "base_uri": "https://localhost:8080/"
        },
        "id": "CPtvYa207IEQ",
        "outputId": "b292660d-ea23-415a-f9e4-71a5c764d6a0"
      },
      "execution_count": 6,
      "outputs": [
        {
          "output_type": "stream",
          "name": "stdout",
          "text": [
            "76579\n"
          ]
        }
      ]
    },
    {
      "cell_type": "code",
      "source": [
        "epochs = 200000\n",
        "lossi = []\n",
        "\n",
        "for i in range(epochs):\n",
        "  ix = torch.randint(0,Xtr.shape[0],(32,))\n",
        "  Xb, Yb = Xtr[ix],Ytr[ix]\n",
        "\n",
        "  logits = model(Xb)\n",
        "  loss = F.cross_entropy(logits, Yb)\n",
        "\n",
        "  for p in model.parameters():\n",
        "    p.grad = None\n",
        "  loss.backward()\n",
        "\n",
        "  lr = 0.1 if i<15000 else 0.01\n",
        "  for p in model.parameters():\n",
        "    p.data -= lr * p.grad\n",
        "\n",
        "  if i % 10000 == 0: # print every once in a while\n",
        "    print(f'{i:7d}/{epochs:7d}: {loss.item():.4f}')\n",
        "  lossi.append(loss.log10().item())"
      ],
      "metadata": {
        "colab": {
          "base_uri": "https://localhost:8080/"
        },
        "id": "15AvACAgL0zb",
        "outputId": "4acf2eaa-14e9-4698-85b8-e698ed362c65"
      },
      "execution_count": 7,
      "outputs": [
        {
          "output_type": "stream",
          "name": "stdout",
          "text": [
            "      0/ 200000: 3.4345\n",
            "  10000/ 200000: 2.3519\n",
            "  20000/ 200000: 2.0935\n",
            "  30000/ 200000: 2.1442\n",
            "  40000/ 200000: 2.5183\n",
            "  50000/ 200000: 2.5269\n",
            "  60000/ 200000: 2.2356\n",
            "  70000/ 200000: 2.1313\n",
            "  80000/ 200000: 2.2863\n",
            "  90000/ 200000: 2.1007\n",
            " 100000/ 200000: 2.1815\n",
            " 110000/ 200000: 2.1590\n",
            " 120000/ 200000: 2.2897\n",
            " 130000/ 200000: 2.0734\n",
            " 140000/ 200000: 2.2470\n",
            " 150000/ 200000: 2.2557\n",
            " 160000/ 200000: 2.1088\n",
            " 170000/ 200000: 1.8585\n",
            " 180000/ 200000: 1.8024\n",
            " 190000/ 200000: 2.3284\n"
          ]
        }
      ]
    },
    {
      "cell_type": "code",
      "source": [
        "import matplotlib.pyplot as plt\n",
        "%matplotlib inline\n",
        "plt.plot(torch.tensor(lossi).view(-1, 1000).mean(1))"
      ],
      "metadata": {
        "colab": {
          "base_uri": "https://localhost:8080/",
          "height": 448
        },
        "id": "1J9XvblERZkf",
        "outputId": "abaf793c-ac76-4599-8a04-2f90a412fa91"
      },
      "execution_count": 9,
      "outputs": [
        {
          "output_type": "execute_result",
          "data": {
            "text/plain": [
              "[<matplotlib.lines.Line2D at 0x785e7eba2990>]"
            ]
          },
          "metadata": {},
          "execution_count": 9
        },
        {
          "output_type": "display_data",
          "data": {
            "text/plain": [
              "<Figure size 640x480 with 1 Axes>"
            ],
            "image/png": "[encoded data removed]"
          },
          "metadata": {}
        }
      ]
    },
    {
      "cell_type": "code",
      "source": [
        "@torch.no_grad()\n",
        "def split_loss(split):\n",
        "  t = {\n",
        "      'train' : (Xtr,Ytr),\n",
        "      'dev' : (Xdev,Ydev),\n",
        "      'test' : (Xte,Yte)\n",
        "  }\n",
        "  x,y = t[split]\n",
        "  logits = model(x)\n",
        "  loss = F.cross_entropy(logits,y)\n",
        "  print(f'{split} loss : {loss.item()}')\n",
        "\n",
        "split_loss('train')\n",
        "split_loss('dev')"
      ],
      "metadata": {
        "id": "UejSRmdhe_0D",
        "colab": {
          "base_uri": "https://localhost:8080/"
        },
        "outputId": "c5c4a6e6-0e9c-42c5-b9f2-22c20d806a65"
      },
      "execution_count": 14,
      "outputs": [
        {
          "output_type": "stream",
          "name": "stdout",
          "text": [
            "train loss : 2.0966198444366455\n",
            "dev loss : 2.125225782394409\n"
          ]
        }
      ]
    },
    {
      "cell_type": "code",
      "source": [
        "for layer in model.layers:\n",
        "  layer.training = False"
      ],
      "metadata": {
        "id": "lfk4k2u6FnpT"
      },
      "execution_count": 16,
      "outputs": []
    },
    {
      "cell_type": "code",
      "source": [
        "for i in range(20):\n",
        "  context = [0] * block_size\n",
        "  out = []\n",
        "  while(True):\n",
        "    logits = model(torch.tensor([context]))\n",
        "    prob = F.softmax(logits,dim = 1)\n",
        "    r = torch.multinomial(prob,num_samples = 1).item()\n",
        "    context = context[1:]+[r]\n",
        "    out.append(itos[r])\n",
        "    if r == 0:\n",
        "      break\n",
        "  print(''.join(out))"
      ],
      "metadata": {
        "colab": {
          "base_uri": "https://localhost:8080/"
        },
        "id": "edXQ0rJ2NTHw",
        "outputId": "f38f9d71-1b20-45e2-da4e-e01de05a80fb"
      },
      "execution_count": 24,
      "outputs": [
        {
          "output_type": "stream",
          "name": "stdout",
          "text": [
            "ayve.\n",
            "emillie.\n",
            "stushya.\n",
            "zebiah.\n",
            "ariyah.\n",
            "lacelli.\n",
            "pianna.\n",
            "kakear.\n",
            "zamisa.\n",
            "odien.\n",
            "eyata.\n",
            "joenstisreno.\n",
            "evilyn.\n",
            "tarvel.\n",
            "kelra.\n",
            "khlyn.\n",
            "aklee.\n",
            "fayya.\n",
            "aasie.\n",
            "gricantlay.\n"
          ]
        }
      ]
    },
    {
      "cell_type": "code",
      "source": [],
      "metadata": {
        "id": "iEOIC5_cGzzQ"
      },
      "execution_count": null,
      "outputs": []
    }
  ]
}